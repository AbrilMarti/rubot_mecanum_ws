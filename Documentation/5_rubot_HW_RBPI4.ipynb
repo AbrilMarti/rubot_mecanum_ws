{
 "metadata": {
  "language_info": {
   "codemirror_mode": {
    "name": "ipython",
    "version": 3
   },
   "file_extension": ".py",
   "mimetype": "text/x-python",
   "name": "python",
   "nbconvert_exporter": "python",
   "pygments_lexer": "ipython3",
   "version": 3
  },
  "orig_nbformat": 2
 },
 "nbformat": 4,
 "nbformat_minor": 2,
 "cells": [
  {
   "source": [
    "# Raspberrypi4 Install\n",
    "\n",
    "Follow the steps in order to properly install the Raspberrypi:\n",
    "\n",
    "- Install Raspberry Pi OS using Raspberry Pi Imager (download for windows): https://www.raspberrypi.org/software/\n",
    "- Run the application and save the image (Raspberry pi OS (32-bit)) to the SD card\n",
    "- Insert the SD in a RBPi board and connect it to screen\n",
    "- The system ask you to choose a wifi network and change the timezone, language and password\n",
    "- Reboot and select Raspberry Pi Configuration to activate the SSH and Camera\n",
    "- reboot and open a terminal to obtain the IP address using \"ifconfig\"\n",
    "\n",
    "You are now ready to connect from your Ubuntu Virtual machine using VS Code or a simple terminal"
   ],
   "cell_type": "markdown",
   "metadata": {}
  },
  {
   "source": [
    "<img src=\"./Images/5_rbpi4_imager.png\">"
   ],
   "cell_type": "markdown",
   "metadata": {}
  },
  {
   "source": [
    "Alternativelly you can connect to the RBPi using SSH in a wifi network without the previous configurations using a screen connection if you follow the instructions:\n",
    "\n",
    "- add ssh file (without extension) in the SD in the G:boot directory\n",
    "- add wpa_supplicant.conf file containing different wifi."
   ],
   "cell_type": "markdown",
   "metadata": {}
  },
  {
   "source": [
    "### Remote Desktop VNC\n",
    "This Desktop is available for Windows and MAC users.\n",
    "\n",
    "- To begin, open up the raspi-config tool by running the following command: sudo raspi-config\n",
    "- Within the configuration tool, use the arrow keys to scroll down to \"2. Display Options\" and \"D1. Resolution\"\n",
    "- Select the desired resolution. Usually DMT Mode 82 1920x1080 60Hz 16:9\n",
    "- Press OK\n",
    "- Within the configuration tool, use the arrow keys to scroll down to \"3. Interface Options\" and \"P3. VNC\"\n",
    "- Select VNC enable\n",
    "- Press OK and reboot\n",
    "\n",
    "Now in your PC install VNC Viewer: https://www.realvnc.com/es/connect/download/viewer/raspberrypi/"
   ],
   "cell_type": "markdown",
   "metadata": {}
  },
  {
   "source": [
    "### Win IP Scanner\n",
    "Install IP scanner for windows: https://www.advanced-ip-scanner.com/es/\n",
    "\n",
    "Connect the RBPi to the router and find the IP number"
   ],
   "cell_type": "markdown",
   "metadata": {}
  },
  {
   "source": [
    "### Connection to RBPi from Ubuntu PC\n",
    "The first connection to the RBPi has to be using a Terminal in Virtual Box:\n",
    "\n",
    "- type \"ssh pi@192.168.18.46\" (the default pass is raspberry)\n",
    "- When you connect the same RBPi to another network, you have a warning because you have to regenerate the KeyGen of your computer. You have to type (using the proper IP): ssh-keygen -R 192.168.18.46"
   ],
   "cell_type": "markdown",
   "metadata": {}
  },
  {
   "source": [
    "### Install ROS Melodic"
   ],
   "cell_type": "markdown",
   "metadata": {}
  },
  {
   "source": [
    "Follow the instructions on the document: ROS Melodic on Raspbian.pdf\n",
    "\n",
    "Refer to the official webpage: http://wiki.ros.org/ROSberryPi/Installing%20ROS%20Melodic%20on%20the%20Raspberry%20Pi"
   ],
   "cell_type": "markdown",
   "metadata": {}
  },
  {
   "source": [
    "### Install Sensor packages\n",
    "#### 1. Camera RaspberryPi"
   ],
   "cell_type": "markdown",
   "metadata": {}
  },
  {
   "cell_type": "code",
   "execution_count": null,
   "metadata": {},
   "outputs": [],
   "source": []
  },
  {
   "source": [
    "#### 2. RP-LIDAR"
   ],
   "cell_type": "markdown",
   "metadata": {}
  }
 ]
}