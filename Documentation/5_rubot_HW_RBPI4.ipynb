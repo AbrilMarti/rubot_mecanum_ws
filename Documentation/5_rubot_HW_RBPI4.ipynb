{
 "metadata": {
  "language_info": {
   "codemirror_mode": {
    "name": "ipython",
    "version": 3
   },
   "file_extension": ".py",
   "mimetype": "text/x-python",
   "name": "python",
   "nbconvert_exporter": "python",
   "pygments_lexer": "ipython3",
   "version": 3
  },
  "orig_nbformat": 2
 },
 "nbformat": 4,
 "nbformat_minor": 2,
 "cells": [
  {
   "source": [
    "# Raspberrypi4 Install\n",
    "\n",
    "Follow the steps in order to properly install the Raspberrypi:\n",
    "\n",
    "- Install Raspberry Pi OS using Raspberry Pi Imager (download for windows): https://www.raspberrypi.org/software/\n",
    "- Run the application and save the image (Raspberry pi OS (32-bit)) to the SD card\n",
    "- Insert the SD in a RBPi board and connect it to screen\n",
    "- The system ask you to choose a wifi network and change the timezone, language and password\n",
    "- Reboot and select Raspberry Pi Configuration to activate the SSH and Camera\n",
    "- reboot and open a terminal to obtain the IP address using \"ifconfig\"\n",
    "\n",
    "You are now ready to connect from your Ubuntu Virtual machine using VS Code or a simple terminal"
   ],
   "cell_type": "markdown",
   "metadata": {}
  }
 ]
}