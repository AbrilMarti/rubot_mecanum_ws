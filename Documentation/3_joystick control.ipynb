{
 "metadata": {
  "language_info": {
   "codemirror_mode": {
    "name": "ipython",
    "version": 3
   },
   "file_extension": ".py",
   "mimetype": "text/x-python",
   "name": "python",
   "nbconvert_exporter": "python",
   "pygments_lexer": "ipython3",
   "version": 3
  },
  "orig_nbformat": 2
 },
 "nbformat": 4,
 "nbformat_minor": 2,
 "cells": [
  {
   "source": [
    "# Joystick control\n",
    "\n",
    "The joy package is a ROS driver for a generic Linux joystick. The joy package contains joy_node, a node that interfaces a generic Linux joystick to ROS. This node publishes a \"Joy\" message, which contains the current state of each one of the joystick's buttons and axes.\n",
    "\n",
    "you have to install it from: http://wiki.ros.org/joy\n",
    "\n",
    "Tutorial: http://wiki.ros.org/joy/Tutorials/ConfiguringALinuxJoystick\n"
   ],
   "cell_type": "markdown",
   "metadata": {}
  },
  {
   "source": [
    "Install the required packages:"
   ],
   "cell_type": "markdown",
   "metadata": {}
  },
  {
   "cell_type": "code",
   "execution_count": null,
   "metadata": {},
   "outputs": [],
   "source": [
    "sudo apt-get install ros-melodic-teleop-twist-joy ros-melodic-joy ros-melodic-joy-teleop"
   ]
  },
  {
   "cell_type": "code",
   "execution_count": null,
   "metadata": {},
   "outputs": [],
   "source": [
    "rosrun joy joy_node dev:=/dev/input/js0\n",
    "rosrun joy_teleop joy_teleop.py\n",
    "roslaunch teleop_twist_joy teleop.launch"
   ]
  }
 ]
}