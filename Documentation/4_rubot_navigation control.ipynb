{
 "metadata": {
  "language_info": {
   "codemirror_mode": {
    "name": "ipython",
    "version": 3
   },
   "file_extension": ".py",
   "mimetype": "text/x-python",
   "name": "python",
   "nbconvert_exporter": "python",
   "pygments_lexer": "ipython3",
   "version": 3
  },
  "orig_nbformat": 2
 },
 "nbformat": 4,
 "nbformat_minor": 2,
 "cells": [
  {
   "source": [
    "# Joystick control\n",
    "\n",
    "The joy package is a ROS driver for a generic Linux joystick. The joy package contains joy_node, a node that interfaces a generic Linux joystick to ROS. This node publishes a \"Joy\" message, which contains the current state of each one of the joystick's buttons and axes.\n",
    "\n",
    "you have to install it from: http://wiki.ros.org/joy\n",
    "\n",
    "Tutorial: http://wiki.ros.org/joy/Tutorials/ConfiguringALinuxJoystick\n"
   ],
   "cell_type": "markdown",
   "metadata": {}
  },
  {
   "source": [
    "Install the required packages:"
   ],
   "cell_type": "markdown",
   "metadata": {}
  },
  {
   "cell_type": "code",
   "execution_count": null,
   "metadata": {},
   "outputs": [],
   "source": [
    "sudo apt-get install ros-melodic-teleop-twist-joy ros-melodic-joy ros-melodic-joy-teleop"
   ]
  },
  {
   "cell_type": "code",
   "execution_count": null,
   "metadata": {},
   "outputs": [],
   "source": [
    "rosrun joy joy_node dev:=/dev/input/js0\n",
    "rosrun joy_teleop joy_teleop.py\n",
    "roslaunch teleop_twist_joy teleop.launch"
   ]
  },
  {
   "cell_type": "code",
   "execution_count": null,
   "metadata": {},
   "outputs": [],
   "source": [
    "roslaunch mecanum_control rubot_control1.launch"
   ]
  },
  {
   "source": [
    "<img src=\"./Images/3_rubot_control1.png\">"
   ],
   "cell_type": "markdown",
   "metadata": {}
  },
  {
   "source": [
    "# Navigation Concepts\n",
    "\n",
    "What you will learn with this unit?\n",
    "\n",
    "- What is the ROS Navigation Stack?\n",
    "- What do I need to work with the Navigation Stack?\n",
    "- What is the move_base node and why it is so important?\n",
    "- Which parts take place in the move_base node?\n"
   ],
   "cell_type": "markdown",
   "metadata": {}
  },
  {
   "source": [
    "What do you need to perform robot navigation with ROS? \n",
    "1.1.1   First, you need a map \n",
    "The very first thing you need in order to perform Navigation is... of course, a Map. But not a treasure Map, or a Map of the state of Wisconsin... No!! You need a Map of the environment where you want your robot to navigate at. Sounds pretty obvious, right? But how could possibly any Robot perform autnomous navigation without providing it with a map of the environment? It just can't.\n",
    "\n",
    "So first thing I need to do is to get a Map of the environemnt. Great!! But wait... How do I get a this map? Where do I get it from?\n",
    "\n",
    "You use the robot to create it, of course! A Map is just a representation of an environment created from the sensor readings of the robot (for example, from the laser, among others). So just by moving the robot around the environment, you can create an awesome Map of it! In terms of ROS Navigation, this is knows as Mapping. Would you like to see an example of how this works? Then let's do it!\n",
    "\n",
    "Wait a second! How rude by my part! I didn't even made the proper introductions yet...\n",
    "\n",
    "In the top right corner of your screen you have the simulation window. In this window you will meet different robots during the course (depending on the Chapter you are) that will help you in the process of learning. In this first Chapter (Basic Concepts), you'll be working with the lovely Kobuki located in a cafeteria. I'm sure you'll get along well!\n",
    "\n",
    "So now we've made the proper introductions... let's start building a map with the Kobuki robot!"
   ],
   "cell_type": "markdown",
   "metadata": {}
  }
 ]
}