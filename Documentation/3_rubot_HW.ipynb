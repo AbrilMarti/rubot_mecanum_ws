{
 "metadata": {
  "language_info": {
   "codemirror_mode": {
    "name": "ipython",
    "version": 3
   },
   "file_extension": ".py",
   "mimetype": "text/x-python",
   "name": "python",
   "nbconvert_exporter": "python",
   "pygments_lexer": "ipython3",
   "version": 3
  },
  "orig_nbformat": 2
 },
 "nbformat": 4,
 "nbformat_minor": 2,
 "cells": [
  {
   "source": [
    "# 2 rubot HW implementation"
   ],
   "cell_type": "markdown",
   "metadata": {}
  },
  {
   "source": [
    "Some other exemples are:\n",
    "- Nexus Base: https://github.com/MartinStokroos/nexus_base_ros\n",
    "- Mecanumbot: http://wiki.ros.org/Robots/Mecanumbot\n",
    "- linobot: https://github.com/linorobot/linorobot\n",
    "- linobot wiki: https://github.com/linorobot/linorobot/wiki"
   ],
   "cell_type": "markdown",
   "metadata": {}
  },
  {
   "source": [
    "The robot is based on Mecanum robot:\n",
    "https://www.aliexpress.com/i/4001248479888.html\n"
   ],
   "cell_type": "markdown",
   "metadata": {}
  },
  {
   "source": [
    "<img src=\"./Images/2_osoyoo.png\">"
   ],
   "cell_type": "markdown",
   "metadata": {}
  },
  {
   "source": [
    "## Controller\n",
    "\n",
    "The controller is based on: \n",
    "- Arduino MEGA shield: https://www.amazon.com/-/es/canales-Shield-Arduino-MEGA2560-Mecanum/dp/B081X1VHNK\n",
    "- STM32 shield: https://es.aliexpress.com/item/4001157096299.html"
   ],
   "cell_type": "markdown",
   "metadata": {}
  },
  {
   "source": [
    "<img src=\"./Images/2_mega.png\">"
   ],
   "cell_type": "markdown",
   "metadata": {}
  },
  {
   "source": [
    "<img src=\"./Images/2_stm.png\">"
   ],
   "cell_type": "markdown",
   "metadata": {}
  },
  {
   "source": [
    "The Master is based on a Raspberrypi4 with Ubuntu18 and ROS Melodic:\n",
    "\n",
    "https://www.instructables.com/ROS-Melodic-on-Raspberry-Pi-4-RPLIDAR/\n",
    "\n",
    "an image could be found: https://yadi.sk/d/YfLc4stnCBljTA\n"
   ],
   "cell_type": "markdown",
   "metadata": {}
  }
 ]
}