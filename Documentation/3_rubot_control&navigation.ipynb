{
 "metadata": {
  "language_info": {
   "codemirror_mode": {
    "name": "ipython",
    "version": 3
   },
   "file_extension": ".py",
   "mimetype": "text/x-python",
   "name": "python",
   "nbconvert_exporter": "python",
   "pygments_lexer": "ipython3",
   "version": 3
  },
  "orig_nbformat": 2
 },
 "nbformat": 4,
 "nbformat_minor": 2,
 "cells": [
  {
   "source": [
    "# rUBot control & Navigation\n",
    "\n",
    "First of all we want to control the robot using our keyboard or a generic Joystick. \n",
    "The joy package is a ROS driver for a generic Linux joystick. The joy package contains joy_node, a node that interfaces a generic Linux joystick to ROS. This node publishes a \"Joy\" message, which contains the current state of each one of the joystick's buttons and axes.\n",
    "\n",
    "you have to install it from: http://wiki.ros.org/joy\n",
    "\n",
    "Tutorial: http://wiki.ros.org/joy/Tutorials/ConfiguringALinuxJoystick\n",
    "\n",
    "Install the required packages:\n"
   ],
   "cell_type": "markdown",
   "metadata": {}
  },
  {
   "cell_type": "code",
   "execution_count": null,
   "metadata": {},
   "outputs": [],
   "source": [
    "sudo apt-get install ros-melodic-teleop-twist-joy ros-melodic-joy ros-melodic-joy-teleop"
   ]
  },
  {
   "cell_type": "code",
   "execution_count": null,
   "metadata": {},
   "outputs": [],
   "source": [
    "rosrun joy joy_node dev:=/dev/input/js0\n",
    "rosrun joy_teleop joy_teleop.py\n",
    "roslaunch teleop_twist_joy teleop.launch"
   ]
  },
  {
   "source": [
    "To control the robot with the Keyboard you have to install the \"teleop-tools\" package:"
   ],
   "cell_type": "markdown",
   "metadata": {}
  },
  {
   "cell_type": "code",
   "execution_count": null,
   "metadata": {},
   "outputs": [],
   "source": [
    "sudo apt-get install ros-melodic-teleop-tools"
   ]
  },
  {
   "source": [
    "Then you will be able to control the robot with the Keyboard typing:"
   ],
   "cell_type": "markdown",
   "metadata": {}
  },
  {
   "cell_type": "code",
   "execution_count": null,
   "metadata": {},
   "outputs": [],
   "source": [
    "rosrun key_teleop key_teleop.py /key_vel:=/cmd_vel"
   ]
  },
  {
   "source": [
    "We have created a new package \"mecanum_control\" with dependencies rospy geometry_msgs nav_msgs sensor_msgs std_msgs"
   ],
   "cell_type": "markdown",
   "metadata": {}
  },
  {
   "cell_type": "code",
   "execution_count": null,
   "metadata": {},
   "outputs": [],
   "source": [
    "catkin_create_pkg mecanum_control rospy geometry_msgs nav_msgs sensor_msgs std_msgs\n",
    "catkin_make"
   ]
  },
  {
   "source": [
    "We have created:\n",
    "- a python file \"rubot_control1.py\" to control the movement linear velocity in x-y direction and angular velocity in z directiron and with a maximum displacement of direction\n",
    "- a launch file \"rubot_control1.launch\"\n",
    "\n",
    "The parameters vx, vy,w and d can be configures in the launch file\n"
   ],
   "cell_type": "markdown",
   "metadata": {}
  },
  {
   "cell_type": "code",
   "execution_count": null,
   "metadata": {},
   "outputs": [],
   "source": [
    "roslaunch mecanum_control rubot_control1.launch"
   ]
  },
  {
   "source": [
    "<img src=\"./Images/3_rubot_control1.png\">"
   ],
   "cell_type": "markdown",
   "metadata": {}
  },
  {
   "source": [
    "# rUBot mecanum autonomous navigation and obstacle avoidance\n",
    "In order to navigate autonomously and avoid obstacles, we have created diferent python files in \"src\" folder:\n",
    "\n",
    "- rubot_LIDAR_Test.py: to test the LIDAR distance readings and angles\n",
    "- rubot_nav1.py: to perform a simple algorithm for navigation with obstacle avoidance\n",
    "\n",
    "we will create also a \"launch\" folder including the corresponding launch files:\n",
    "\n",
    "- rubot_lidar_test.launch\n",
    "- rubot_nav1.launch\n"
   ],
   "cell_type": "markdown",
   "metadata": {}
  },
  {
   "source": [
    "roslaunch mecanum_control rubot_lidar_test.launch"
   ],
   "cell_type": "code",
   "metadata": {},
   "execution_count": null,
   "outputs": []
  },
  {
   "cell_type": "code",
   "execution_count": null,
   "metadata": {},
   "outputs": [],
   "source": [
    "roslaunch mecanum_control rubot_nav1.launch"
   ]
  }
 ]
}