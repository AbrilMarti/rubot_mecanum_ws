{
 "cells": [
  {
   "cell_type": "markdown",
   "metadata": {},
   "source": [
    "# 1. rubot Mecanum model description"
   ]
  },
  {
   "cell_type": "markdown",
   "metadata": {},
   "source": [
    "Diferent models could be obtained:\n",
    "- Commercial robot nexus robot\n",
    "- Costomized nexus robot\n",
    "- Custom designed model \n",
    "\n",
    "For a custom model created in SolidWorks, there is an add-in that allows the conversion of SW Parts and Assemblies into a URDF file. The exporter will create a ROS-like package that contains a directory for meshes, textures and robots (urdf files).: http://wiki.ros.org/sw_urdf_exporter\n",
    "\n",
    "\n"
   ]
  },
  {
   "cell_type": "markdown",
   "metadata": {},
   "source": [
    "## 1.1. Commercial nexus robot\n",
    "\n",
    "This commercial robot can be found in: https://www.nexusrobot.com/product/4wd-mecanum-wheel-mobile-arduino-robotics-car-10011.html\n",
    "\n",
    "There is already a URDF model extracted from: https://github.com/RBinsonB/nexus_4wd_mecanum_simulator\n",
    "\n",
    "Run the simulation for one nexus robot by using the following command line:"
   ]
  },
  {
   "cell_type": "code",
   "execution_count": null,
   "metadata": {},
   "outputs": [],
   "source": [
    "roslaunch nexus_4wd_mecanum_gazebo nexus_4wd_mecanum_world.launch"
   ]
  },
  {
   "cell_type": "markdown",
   "metadata": {},
   "source": [
    "![Getting Started](./Images/1_rubot_gazebo1.png)"
   ]
  },
  {
   "cell_type": "markdown",
   "metadata": {},
   "source": [
    "To launch two nexus robots, use the following launch file:"
   ]
  },
  {
   "cell_type": "code",
   "execution_count": null,
   "metadata": {},
   "outputs": [],
   "source": [
    "roslaunch nexus_4wd_mecanum_gazebo nexus_4wd_mecanum_multi.launch"
   ]
  },
  {
   "cell_type": "markdown",
   "metadata": {},
   "source": [
    "![Getting Started](./Images/1_rubot_gazebo2.png)"
   ]
  },
  {
   "cell_type": "markdown",
   "metadata": {},
   "source": [
    "##1.2. Costomized nexus robot\n",
    "\n",
    "We have added:\n",
    "- Camera sensor\n",
    "- LIDAR sensor\n",
    "- Kinematic driver for Holonomic movement\n"
   ]
  },
  {
   "cell_type": "markdown",
   "metadata": {},
   "source": [
    "### Camera sensor\n",
    "\n",
    "This sensor is integrated as a link and fixed joint for visual purposes:"
   ]
  },
  {
   "cell_type": "code",
   "execution_count": null,
   "metadata": {},
   "outputs": [],
   "source": [
    "  <!-- 2D Camera as a mesh of actual PiCamera -->\n",
    "  <link name=\"camera\">\n",
    "    <visual>\n",
    "      <origin rpy=\"0 1.570795 0\" xyz=\"0 0 0\"/>\n",
    "      <geometry>\n",
    "        <mesh filename=\"package://nexus_4wd_mecanum_description/meshes/piCamera.stl\" scale=\"0.0025 0.0025 0.0025\"/>\n",
    "      </geometry>\n",
    "      <material name=\"yellow\"/>\n",
    "    </visual>\n",
    "    <collision>\n",
    "      <origin rpy=\"0 1.570795 0\" xyz=\"0 0 0\"/>\n",
    "      <geometry>\n",
    "        <box size=\"0.075 0.075 0.025\"/>\n",
    "      </geometry>\n",
    "    </collision>\n",
    "    <inertial>\n",
    "      <origin rpy=\"0 1.570795 0\" xyz=\"0 0 0\"/>\n",
    "      <mass value=\"1e-3\"/>\n",
    "      <inertia ixx=\"1e-6\" ixy=\"0\" ixz=\"0\" iyy=\"1e-6\" iyz=\"0\" izz=\"1e-6\"/>\n",
    "    </inertial>\n",
    "  </link>\n",
    "  <!-- 2D Camera JOINT base_link -->\n",
    "  <joint name=\"joint_camera\" type=\"fixed\">\n",
    "    <axis xyz=\"0 0 1\"/>\n",
    "    <origin rpy=\"0 0 0\" xyz=\"0.16 0 0.05\"/>\n",
    "    <parent link=\"base_link\"/>\n",
    "    <child link=\"camera\"/>\n",
    "  </joint>"
   ]
  },
  {
   "cell_type": "markdown",
   "metadata": {},
   "source": [
    "A driver is needed to view the images."
   ]
  },
  {
   "cell_type": "code",
   "execution_count": null,
   "metadata": {},
   "outputs": [],
   "source": [
    "  <!-- 2D Camera controller -->\n",
    "  <gazebo reference=\"camera\">\n",
    "    <sensor name=\"camera1\" type=\"camera\">\n",
    "      <update_rate>30.0</update_rate>\n",
    "      <camera name=\"front\">\n",
    "        <horizontal_fov>1.3962634</horizontal_fov>\n",
    "        <image>\n",
    "          <width>800</width>\n",
    "          <height>800</height>\n",
    "          <format>R8G8B8</format>\n",
    "        </image>\n",
    "        <clip>\n",
    "          <near>0.02</near>\n",
    "          <far>300</far>\n",
    "        </clip>\n",
    "      </camera>\n",
    "      <plugin filename=\"libgazebo_ros_camera.so\" name=\"camera_controller\">\n",
    "        <alwaysOn>true</alwaysOn>\n",
    "        <updateRate>0.0</updateRate>\n",
    "        <cameraName>rubot/camera1</cameraName>\n",
    "        <imageTopicName>image_raw</imageTopicName>\n",
    "        <cameraInfoTopicName>camera_info</cameraInfoTopicName>\n",
    "        <frameName>camera</frameName>\n",
    "        <hackBaseline>0.07</hackBaseline>\n",
    "        <distortionK1>0.0</distortionK1>\n",
    "        <distortionK2>0.0</distortionK2>\n",
    "        <distortionK3>0.0</distortionK3>\n",
    "        <distortionT1>0.0</distortionT1>\n",
    "        <distortionT2>0.0</distortionT2>\n",
    "      </plugin>\n",
    "    </sensor>\n",
    "  </gazebo>"
   ]
  },
  {
   "cell_type": "markdown",
   "metadata": {},
   "source": [
    "### LIDAR sensor\n",
    "\n",
    "This sensor is integrated as a link and fixed joint for visual purposes:"
   ]
  },
  {
   "cell_type": "code",
   "execution_count": null,
   "metadata": {},
   "outputs": [],
   "source": [
    "  <!-- LIDAR base_scan -->\n",
    "  <link name=\"base_scan\">\n",
    "    <visual name=\"sensor_body\">\n",
    "      <origin rpy=\"0 0 0\" xyz=\"0 0 0.04\"/>\n",
    "      <geometry>\n",
    "        <mesh filename=\"package://nexus_4wd_mecanum_description/meshes/X4.stl\" scale=\"0.0015 0.0015 0.0015\"/>\n",
    "      </geometry>\n",
    "      <material name=\"yellow\"/>\n",
    "    </visual>\n",
    "    <collision>\n",
    "      <origin rpy=\"0 0 0\" xyz=\"0 0 0.04\"/>\n",
    "      <geometry>\n",
    "        <cylinder length=\"0.01575\" radius=\"0.0275\"/>\n",
    "      </geometry>\n",
    "    </collision>\n",
    "    <inertial>\n",
    "      <origin rpy=\"0 0 0\" xyz=\"0 0 0.4\"/>\n",
    "      <mass value=\"0.057\"/>\n",
    "      <inertia ixx=\"0.001\" ixy=\"0.0\" ixz=\"0.0\" iyy=\"0.001\" iyz=\"0.0\" izz=\"0.001\"/>\n",
    "    </inertial>\n",
    "  </link>\n",
    "  <!-- LIDAR base_scan JOINT base_link -->\n",
    "  <joint name=\"scan_joint\" type=\"fixed\">\n",
    "    <axis xyz=\"0 0 1\"/>\n",
    "    <origin rpy=\"0 0 0\" xyz=\"0 0 0.09\"/>\n",
    "    <parent link=\"base_link\"/>\n",
    "    <child link=\"base_scan\"/>\n",
    "  </joint>"
   ]
  },
  {
   "cell_type": "markdown",
   "metadata": {},
   "source": [
    "A driver is needed to see the 720 laser distance points:"
   ]
  },
  {
   "cell_type": "code",
   "execution_count": null,
   "metadata": {},
   "outputs": [],
   "source": [
    "  <!-- Laser Distance Sensor YDLIDAR X4 controller-->\n",
    "  <gazebo reference=\"base_scan\">\n",
    "    <sensor name=\"lds_lfcd_sensor\" type=\"ray\">\n",
    "      <pose>0 0 0 0 0 0</pose>\n",
    "      <visualize>false</visualize>\n",
    "      <update_rate>5</update_rate>\n",
    "      <ray>\n",
    "        <scan>\n",
    "          <horizontal>\n",
    "            <samples>720</samples>\n",
    "            <resolution>0.5</resolution>\n",
    "            <min_angle>0.0</min_angle>\n",
    "            <max_angle>6.28319</max_angle>\n",
    "          </horizontal>\n",
    "        </scan>\n",
    "        <range>\n",
    "          <min>0.12</min>\n",
    "          <max>10</max>\n",
    "          <resolution>0.015</resolution>\n",
    "        </range>\n",
    "        <noise>\n",
    "          <type>gaussian</type>\n",
    "          <!-- Noise parameters based on published spec for YDLIDAR X4\n",
    "              is 1.5% at half range 4m (= 60mm, \"+-160mm\" accuracy at max. range 8m).\n",
    "              A mean of 0.0m and stddev of 0.020m will put 99.7% of samples\n",
    "              within 0.16m of the true reading. -->\n",
    "          <mean>0.0</mean>\n",
    "          <stddev>0.02</stddev>\n",
    "        </noise>\n",
    "      </ray>\n",
    "      <plugin filename=\"libgazebo_ros_laser.so\" name=\"gazebo_ros_lds_lfcd_controller\">\n",
    "        <!-- topicName>/gopigo/scan</topicName -->\n",
    "        <topicName>scan</topicName>\n",
    "        <frameName>base_scan</frameName>\n",
    "      </plugin>\n",
    "    </sensor>\n",
    "  </gazebo>"
   ]
  },
  {
   "cell_type": "markdown",
   "metadata": {},
   "source": [
    "A driver is needed to describe the kinematics.This kinematics is described in the \"libgazebo_ros_control.so\" file and the URDF model will contain the specufic gazebo plugin:"
   ]
  },
  {
   "cell_type": "code",
   "execution_count": null,
   "metadata": {},
   "outputs": [],
   "source": [
    "<?xml version=\"1.0\"?>\n",
    "<robot>\n",
    "  <!-- Mecanum drive controller -->\n",
    "  <gazebo>\n",
    "    <!--<plugin name=\"gazebo_ros_control\" filename=\"libgazebo_ros_control.so\">\n",
    "      <robotNamespace>/</robotNamespace>\n",
    "    </plugin>-->\n",
    "\n",
    "    <plugin name=\"nexus_ros_force_based_move\" filename=\"libnexus_ros_force_based_move.so\">\n",
    "      <commandTopic>cmd_vel</commandTopic>\n",
    "      <odometryTopic>odom</odometryTopic>\n",
    "      <odometryFrame>odom</odometryFrame>\n",
    "      <odometryRate>25.0</odometryRate>\n",
    "      <robotBaseFrame>base_footprint</robotBaseFrame>\n",
    "      <cmdVelTimeOut>0.25</cmdVelTimeOut>\n",
    "      <publishOdometryTf>0</publishOdometryTf>\n",
    "      <yaw_velocity_p_gain>1.0</yaw_velocity_p_gain>\n",
    "      <x_velocity_p_gain>15.0</x_velocity_p_gain>\n",
    "      <y_velocity_p_gain>15.0</y_velocity_p_gain>\n",
    "      <max_x_velocity>0.6</max_x_velocity>\n",
    "      <max_y_velocity>0.6</max_y_velocity>\n",
    "      <max_yaw_velocity>0.5</max_yaw_velocity>\n",
    "    </plugin>\n",
    "  </gazebo>"
   ]
  },
  {
   "cell_type": "raw",
   "metadata": {},
   "source": []
  },
  {
   "cell_type": "markdown",
   "metadata": {},
   "source": [
    "To control the POSE with cmd_vel we can install the package: \n",
    "- For Holonomic movements: http://wiki.ros.org/teleop_twist_keyboard\n",
    "- for non-holonomic movements: http://wiki.ros.org/teleop_tools"
   ]
  },
  {
   "cell_type": "code",
   "execution_count": null,
   "metadata": {},
   "outputs": [],
   "source": [
    "sudo apt-get install ros-melodic-teleop-tools\n",
    "or\n",
    "sudo apt-get install ros-melodic-teleop-twist-keyboard"
   ]
  },
  {
   "cell_type": "markdown",
   "metadata": {},
   "source": [
    "To launch the control:"
   ]
  },
  {
   "cell_type": "code",
   "execution_count": null,
   "metadata": {},
   "outputs": [],
   "source": [
    "rosrun key_teleop key_teleop.py /key_vel:=/cmd_vel\n",
    "or\n",
    "rosrun teleop_twist_keyboard teleop_twist_keyboard.py"
   ]
  },
  {
   "cell_type": "markdown",
   "metadata": {},
   "source": [
    "# rUBot mecanum model\n",
    "This robot includes a:\n",
    "- 2D camera\n",
    "- LIDAR\n",
    "\n",
    "we have added the corresponding links and joints in \"rubot_mecanum.xacro\" file and the gazebo plugins in \"rubot_mecanum.gazebo\" file"
   ]
  },
  {
   "cell_type": "code",
   "execution_count": null,
   "metadata": {},
   "outputs": [],
   "source": [
    "roslaunch nexus_4wd_mecanum_gazebo rubot_mecanum_world.launch"
   ]
  },
  {
   "cell_type": "code",
   "execution_count": null,
   "metadata": {},
   "outputs": [],
   "source": [
    "roslaunch nexus_4wd_mecanum_description rubot_mecanum_rviz.launch"
   ]
  },
  {
   "cell_type": "markdown",
   "metadata": {},
   "source": [
    "<img src=\"./Images/1_rubot_mecanum2.png\">"
   ]
  },
  {
   "cell_type": "markdown",
   "metadata": {},
   "source": [
    "### Plugin for driving control\n",
    "We can choose:\n",
    "- the one designed for Nexus_mecanum robot: libnexus_ros_force_based_move.so\n",
    "- a generic one for holonomic movements: libgazebo_ros_planar_move.so"
   ]
  },
  {
   "cell_type": "markdown",
   "metadata": {},
   "source": [
    "#### Nexus driving controller:\n",
    "This driver is based on a force controlled driver and is custom designed in specific cpp file \"nexus_ros_force_based_move.cpp\" in \"nexus_4wd_mecanum_gazebo\" package.\n",
    "\n",
    "Carefull!\n",
    "\n",
    "Be sure in gazebo plugin, the /odom topic will be published:<publishOdometryTf>true</publishOdometryTf>"
   ]
  },
  {
   "cell_type": "code",
   "execution_count": null,
   "metadata": {},
   "outputs": [],
   "source": [
    "  <!-- Mecanum drive controller -->\n",
    "  <gazebo>\n",
    "    <!--<plugin name=\"gazebo_ros_control\" filename=\"libgazebo_ros_control.so\">\n",
    "      <robotNamespace>/</robotNamespace>\n",
    "    </plugin>-->\n",
    "\n",
    "    <plugin name=\"nexus_ros_force_based_move\" filename=\"libnexus_ros_force_based_move.so\">\n",
    "      <commandTopic>cmd_vel</commandTopic>\n",
    "      <odometryTopic>odom</odometryTopic>\n",
    "      <odometryFrame>odom</odometryFrame>\n",
    "      <odometryRate>25.0</odometryRate>\n",
    "      <robotBaseFrame>base_footprint</robotBaseFrame>\n",
    "      <cmdVelTimeOut>0.25</cmdVelTimeOut>\n",
    "      <publishOdometryTf>true</publishOdometryTf>\n",
    "      <yaw_velocity_p_gain>1.0</yaw_velocity_p_gain>\n",
    "      <x_velocity_p_gain>15.0</x_velocity_p_gain>\n",
    "      <y_velocity_p_gain>15.0</y_velocity_p_gain>\n",
    "      <max_x_velocity>0.6</max_x_velocity>\n",
    "      <max_y_velocity>0.6</max_y_velocity>\n",
    "      <max_yaw_velocity>0.5</max_yaw_velocity>\n",
    "    </plugin>\n",
    "  </gazebo>"
   ]
  },
  {
   "cell_type": "markdown",
   "metadata": {},
   "source": [
    "#### ROS holonomic driving controller:\n",
    "This driver is the \"Planar Move Plugin\" and is described in Gazebo tutorials: http://gazebosim.org/tutorials?tut=ros_gzplugins#AddingaModelPlugin\n"
   ]
  },
  {
   "cell_type": "code",
   "execution_count": null,
   "metadata": {},
   "outputs": [],
   "source": [
    " <gazebo>\n",
    "    <plugin name=\"Mecanum_controller\" filename=\"libgazebo_ros_planar_move.so\">\n",
    "      <commandTopic>cmd_vel</commandTopic>\n",
    "      <odometryTopic>odom</odometryTopic>\n",
    "      <odometryFrame>odom</odometryFrame>\n",
    "      <odometryRate>50.0</odometryRate>\n",
    "      <robotBaseFrame>base_footprint</robotBaseFrame>\n",
    "    </plugin>\n",
    "  </gazebo>"
   ]
  },
  {
   "cell_type": "markdown",
   "metadata": {},
   "source": [
    "### Nexus robot control\n",
    "You can test the robot model in Gazebo and rviz to verufy the driving and sensor functionalities:"
   ]
  },
  {
   "cell_type": "code",
   "execution_count": null,
   "metadata": {},
   "outputs": [],
   "source": [
    "rosrun teleop_twist_keyboard teleop_twist_keyboard.py "
   ]
  }
 ],
 "metadata": {
  "kernelspec": {
   "display_name": "Python 3.6.9 64-bit",
   "name": "python369jvsc74a57bd031f2aee4e71d21fbe5cf8b01ff0e069b9275f58929596ceb00d14d90e3e16cd6"
  },
  "language_info": {
   "name": "python",
   "version": ""
  },
  "metadata": {
   "interpreter": {
    "hash": "31f2aee4e71d21fbe5cf8b01ff0e069b9275f58929596ceb00d14d90e3e16cd6"
   }
  },
  "orig_nbformat": 2
 },
 "nbformat": 4,
 "nbformat_minor": 2
}