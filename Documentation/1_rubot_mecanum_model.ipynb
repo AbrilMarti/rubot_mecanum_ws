{
 "metadata": {
  "language_info": {
   "codemirror_mode": {
    "name": "ipython",
    "version": 3
   },
   "file_extension": ".py",
   "mimetype": "text/x-python",
   "name": "python",
   "nbconvert_exporter": "python",
   "pygments_lexer": "ipython3",
   "version": 3
  },
  "orig_nbformat": 2
 },
 "nbformat": 4,
 "nbformat_minor": 2,
 "cells": [
  {
   "source": [
    "# rubot Mecanum model description"
   ],
   "cell_type": "markdown",
   "metadata": {}
  },
  {
   "source": [
    "This model has been extracted from: https://github.com/RBinsonB/nexus_4wd_mecanum_simulator\n"
   ],
   "cell_type": "markdown",
   "metadata": {}
  }
 ]
}