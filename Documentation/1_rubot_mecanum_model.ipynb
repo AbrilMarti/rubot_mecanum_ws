{
 "metadata": {
  "language_info": {
   "codemirror_mode": {
    "name": "ipython",
    "version": 3
   },
   "file_extension": ".py",
   "mimetype": "text/x-python",
   "name": "python",
   "nbconvert_exporter": "python",
   "pygments_lexer": "ipython3",
   "version": 3
  },
  "orig_nbformat": 2
 },
 "nbformat": 4,
 "nbformat_minor": 2,
 "cells": [
  {
   "source": [
    "# rubot Mecanum model description"
   ],
   "cell_type": "markdown",
   "metadata": {}
  },
  {
   "source": [
    "Diferent models could be obtained:\n",
    "- Commercial robot nexus robot: https://www.nexusrobot.com/product/4wd-mecanum-wheel-mobile-arduino-robotics-car-10011.html\n",
    "- Custom designed model \n",
    "\n",
    "For a custom model created in SolidWorks, there is an add-in that allows the conversion of SW Parts and Assemblies into a URDF file. The exporter will create a ROS-like package that contains a directory for meshes, textures and robots (urdf files).: http://wiki.ros.org/sw_urdf_exporter\n",
    "\n",
    "For nexus robot there is already a URDF model extracted from: https://github.com/RBinsonB/nexus_4wd_mecanum_simulator\n"
   ],
   "cell_type": "markdown",
   "metadata": {}
  },
  {
   "source": [
    "<img src=\"./Images/1_rubot_mecanum.png\">"
   ],
   "cell_type": "markdown",
   "metadata": {}
  },
  {
   "source": [
    "Run the simulation for one nexus robot by using the following command line:"
   ],
   "cell_type": "markdown",
   "metadata": {}
  },
  {
   "cell_type": "code",
   "execution_count": null,
   "metadata": {},
   "outputs": [],
   "source": [
    "roslaunch nexus_4wd_mecanum_gazebo nexus_4wd_mecanum_world.launch"
   ]
  },
  {
   "source": [
    "<img src=\"./Images/1_rubot_gazebo1.png\">"
   ],
   "cell_type": "markdown",
   "metadata": {}
  },
  {
   "source": [
    "To launch two nexus robots, use the following launch file:"
   ],
   "cell_type": "markdown",
   "metadata": {}
  },
  {
   "cell_type": "code",
   "execution_count": null,
   "metadata": {},
   "outputs": [],
   "source": [
    "roslaunch nexus_4wd_mecanum_gazebo nexus_4wd_mecanum_multi.launch"
   ]
  },
  {
   "source": [
    "<img src=\"./Images/1_rubot_gazebo2.png\">"
   ],
   "cell_type": "markdown",
   "metadata": {}
  },
  {
   "cell_type": "code",
   "execution_count": null,
   "metadata": {},
   "outputs": [],
   "source": [
    "sudo apt-get install ros-melodic-teleop-tools"
   ]
  },
  {
   "cell_type": "code",
   "execution_count": null,
   "metadata": {},
   "outputs": [],
   "source": [
    "rosrun key_teleop key_teleop.py /key_vel:=/cmd_vel"
   ]
  },
  {
   "source": [
    "# rUBot mecanum model\n",
    "This robot includes a:\n",
    "- 2D camera\n",
    "- LIDAR\n",
    "\n",
    "we have added the corresponding links and joints in \"rubot_mecanum.xacro\" file and the gazebo plugins in \"rubot_mecanum.gazebo\" file"
   ],
   "cell_type": "markdown",
   "metadata": {}
  },
  {
   "cell_type": "code",
   "execution_count": null,
   "metadata": {},
   "outputs": [],
   "source": [
    "roslaunch nexus_4wd_mecanum_description rubot_mecanum_rviz.launch"
   ]
  }
 ]
}